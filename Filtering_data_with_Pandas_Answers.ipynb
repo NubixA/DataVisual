{
  "nbformat": 4,
  "nbformat_minor": 0,
  "metadata": {
    "colab": {
      "name": "Filtering data with Pandas Answers.ipynb",
      "provenance": [],
      "collapsed_sections": [],
      "authorship_tag": "ABX9TyO6UBNx2Y1AqzCKFpRBn3OK",
      "include_colab_link": true
    },
    "kernelspec": {
      "name": "python3",
      "display_name": "Python 3"
    },
    "language_info": {
      "name": "python"
    }
  },
  "cells": [
    {
      "cell_type": "markdown",
      "metadata": {
        "id": "view-in-github",
        "colab_type": "text"
      },
      "source": [
        "<a href=\"https://colab.research.google.com/github/NubixA/DataVisual/blob/main/Filtering_data_with_Pandas_Answers.ipynb\" target=\"_parent\"><img src=\"https://colab.research.google.com/assets/colab-badge.svg\" alt=\"Open In Colab\"/></a>"
      ]
    },
    {
      "cell_type": "markdown",
      "source": [
        "### Interrogating dataframes\n",
        "---\n",
        "\n",
        "*   single column: `dataframe['column']`\n",
        "*   multiple columns: `dataframe[['column1', 'column2']]`\n",
        "*   filter rows by condition \t`df[df[column] = condition]`  \n",
        "*   filter by multiple conditions where both are true (AND)\t`df[(df[column] = condition1) & (df[column] = condition2)]`  \n",
        "*   filter by multiple conditions where one or other are true (OR)\t`df[(df[column] = condition1)  | (df[column] = condition2)]`  \n",
        "\n",
        "### Usefull Functions\n",
        "\n",
        "---\n",
        "\n",
        "`head()`: will show the first 5 rows of the dataframe.  \n",
        "`tail()`: same as head() but for the last 5 rows.  \n",
        "`len()`: will show the length.  \n",
        "`mode()`: will show the most common value in column.  \n",
        "`mean()`: will show the average of the column.  \n",
        "`sort_values()`: will sort the dataframe.\n",
        "\n",
        "\n",
        "\n"
      ],
      "metadata": {
        "id": "3HT6psayWFCc"
      }
    },
    {
      "cell_type": "markdown",
      "source": [
        "## Table Imports & Table Content \n",
        "\n",
        "---\n",
        "\\\n",
        "Running the code below will display table content of all 3 tables. Use this to easily find colum names from specific tables."
      ],
      "metadata": {
        "id": "szKiU-timLdN"
      }
    },
    {
      "cell_type": "code",
      "source": [
        "import pandas as pd\n",
        "\n",
        "skillMigration = pd.read_excel('https://github.com/futureCodersSE/working-with-data/blob/main/Data%20sets/public_use-talent-migration.xlsx?raw=true', \"Skill Migration\")\n",
        "industryMigration = pd.read_excel('https://github.com/futureCodersSE/working-with-data/blob/main/Data%20sets/public_use-talent-migration.xlsx?raw=true', \"Industry Migration\")\n",
        "countryMigration = pd.read_excel('https://github.com/futureCodersSE/working-with-data/blob/main/Data%20sets/public_use-talent-migration.xlsx?raw=true', \"Country Migration\")\n",
        "\n",
        "def get_summary(df):\n",
        "  display(df.info())\n",
        "\n",
        "get_summary(skillMigration)\n",
        "get_summary(industryMigration)\n",
        "get_summary(countryMigration)"
      ],
      "metadata": {
        "id": "ZG_96PAAhaVY"
      },
      "execution_count": null,
      "outputs": []
    },
    {
      "cell_type": "markdown",
      "source": [
        "# Exercise 1\n",
        "\n",
        "---\n",
        "\\\n",
        "Write your code inside the function below to:\n",
        "- Find all `High income` countries using the `wb_income` column.\n",
        "- Return the length of rows."
      ],
      "metadata": {
        "id": "fL-D9LkmNr9g"
      }
    },
    {
      "cell_type": "code",
      "source": [
        "import pandas as pd\n",
        "\n",
        "skillMigration = pd.read_excel('https://github.com/futureCodersSE/working-with-data/blob/main/Data%20sets/public_use-talent-migration.xlsx?raw=true', \"Skill Migration\")\n",
        "\n",
        "def exc_1(df):\n",
        "  # add code below\n",
        "  new_df = df[df[\"wb_income\"] == \"High income\"]\n",
        "\n",
        "  return len(new_df)\n",
        "\n",
        "actual = exc_1(skillMigration)\n",
        "expected = 8904\n",
        "\n",
        "if actual == expected:\n",
        "  print(\"Test passed!\\nExpected: {}\\nActual: {}\".format(expected, actual))\n",
        "else:\n",
        "  print(\"Test failed!\\nExpected: {}\\nActual: {}\".format(expected, actual))"
      ],
      "metadata": {
        "colab": {
          "base_uri": "https://localhost:8080/"
        },
        "id": "IHHR1T1kOZmq",
        "outputId": "c03ca886-122d-48b2-9f3e-70712c6ac7b2"
      },
      "execution_count": null,
      "outputs": [
        {
          "output_type": "stream",
          "name": "stdout",
          "text": [
            "Test passed!\n",
            "Expected: 8904\n",
            "Actual: 8904\n"
          ]
        }
      ]
    },
    {
      "cell_type": "markdown",
      "source": [
        "# Exercise 2\n",
        "\n",
        "---\n",
        "\\\n",
        "Write your code inside the function below to:\n",
        "- Find all rows that have a `skill_group_category` called `Tech Skills`.\n",
        "- Return the country that shows up the most in `country_name`."
      ],
      "metadata": {
        "id": "rO3uDHEEPhIp"
      }
    },
    {
      "cell_type": "code",
      "source": [
        "import pandas as pd\n",
        "\n",
        "skillMigration = pd.read_excel('https://github.com/futureCodersSE/working-with-data/blob/main/Data%20sets/public_use-talent-migration.xlsx?raw=true', \"Skill Migration\")\n",
        "\n",
        "def exc_2(df):\n",
        "  # add code below\n",
        "  new_df = df[df[\"skill_group_category\"] == \"Tech Skills\"]\n",
        "\n",
        "  return new_df[\"country_name\"].mode()\n",
        "\n",
        "actual = exc_2(skillMigration)[0]\n",
        "expected = \"Australia\"\n",
        "\n",
        "if actual == expected:\n",
        "  print(\"Test passed!\\nExpected: {}\\nActual: {}\".format(expected, actual))\n",
        "else:\n",
        "  print(\"Test failed!\\nExpected: {}\\nActual: {}\".format(expected, actual))"
      ],
      "metadata": {
        "colab": {
          "base_uri": "https://localhost:8080/"
        },
        "id": "aYfnMp0RQ4Dr",
        "outputId": "2558469e-25c7-43f5-d753-e460b931c875"
      },
      "execution_count": null,
      "outputs": [
        {
          "output_type": "stream",
          "name": "stdout",
          "text": [
            "Test passed!\n",
            "Expected: Australia\n",
            "Actual: Australia\n"
          ]
        }
      ]
    },
    {
      "cell_type": "markdown",
      "source": [
        "# Exercise 3\n",
        "\n",
        "---\n",
        "\\\n",
        "Write your code inside the function below to:\n",
        "- Find all `skill_group_id` with the id `2265` that have a `net_per_10K_2019` greater than `-500`.\n",
        "- Sort the rows in ascending order based on `net_per_10K_2019` and return the first 5 rows.\n",
        "\n",
        "#### Expected Row IDs\n",
        "\n",
        "\n",
        "1.   1300\n",
        "2.   14551\n",
        "3.   10393\n",
        "4.   184\n",
        "5.   14553\n",
        "\n",
        "\n",
        " "
      ],
      "metadata": {
        "id": "hs4N75oOQ5vy"
      }
    },
    {
      "cell_type": "code",
      "source": [
        "import pandas as pd\n",
        "\n",
        "skillMigration = pd.read_excel('https://github.com/futureCodersSE/working-with-data/blob/main/Data%20sets/public_use-talent-migration.xlsx?raw=true', \"Skill Migration\")\n",
        "\n",
        "def exc_3(df):\n",
        "  # add code below\n",
        "  new_df = df[(df[\"skill_group_category\"] == \"Tech Skills\") & (df[\"net_per_10K_2019\"] > -500)]\n",
        "  \n",
        "  return new_df.sort_values(by=[\"net_per_10K_2019\"]).head()\n",
        "\n",
        "print(exc_3(skillMigration))"
      ],
      "metadata": {
        "id": "eYuGy4UXQ4um"
      },
      "execution_count": null,
      "outputs": []
    },
    {
      "cell_type": "markdown",
      "source": [
        "# Exercise 4\n",
        "\n",
        "---\n",
        "\\\n",
        "Write your code inside the function below to:\n",
        "- Find all rows with a `net_per_10K_2019` less than `0`.\n",
        "- Return the length of rows."
      ],
      "metadata": {
        "id": "br8aWPZvRnhA"
      }
    },
    {
      "cell_type": "code",
      "source": [
        "import pandas as pd\n",
        "\n",
        "countryMigration = pd.read_excel('https://github.com/futureCodersSE/working-with-data/blob/main/Data%20sets/public_use-talent-migration.xlsx?raw=true', \"Country Migration\")\n",
        "\n",
        "def exc_4(df):\n",
        "  # add code below\n",
        "  new_df = df[df[\"net_per_10K_2019\"] < 0]\n",
        "\n",
        "  return len(new_df)\n",
        "\n",
        "actual = exc_4(countryMigration)\n",
        "expected = 1980\n",
        "\n",
        "if actual == expected:\n",
        "  print(\"Test passed!\\nExpected: {}\\nActual: {}\".format(expected, actual))\n",
        "else:\n",
        "  print(\"Test failed!\\nExpected: {}\\nActual: {}\".format(expected, actual))"
      ],
      "metadata": {
        "colab": {
          "base_uri": "https://localhost:8080/"
        },
        "id": "6qL6UNVBRo80",
        "outputId": "09d1466c-7022-4245-eabf-fdd817efebcd"
      },
      "execution_count": null,
      "outputs": [
        {
          "output_type": "stream",
          "name": "stdout",
          "text": [
            "Test passed!\n",
            "Expected: 1980\n",
            "Actual: 1980\n"
          ]
        }
      ]
    },
    {
      "cell_type": "markdown",
      "source": [
        "# Exercise 5\n",
        "\n",
        "---\n",
        "\\\n",
        "Write your code inside the function below to:\n",
        "- Find all rows that have a `net_per_10K_2015` & `net_per_10K_2016` greater than `50`.\n",
        "- Return the length of rows"
      ],
      "metadata": {
        "id": "lFXbG6c2SUik"
      }
    },
    {
      "cell_type": "code",
      "source": [
        "import pandas as pd\n",
        "\n",
        "countryMigration = pd.read_excel('https://github.com/futureCodersSE/working-with-data/blob/main/Data%20sets/public_use-talent-migration.xlsx?raw=true', \"Country Migration\")\n",
        "\n",
        "def exc_5(df):\n",
        "  # add code below\n",
        "  new_df = df[(df[\"net_per_10K_2015\"] > 50) & (df[\"net_per_10K_2016\"] > 50)]\n",
        "  \n",
        "  return len(new_df)\n",
        "\n",
        "actual = exc_5(countryMigration)\n",
        "expected = 3\n",
        "\n",
        "if actual == expected:\n",
        "  print(\"Test passed!\\nExpected: {}\\nActual: {}\".format(expected, actual))\n",
        "else:\n",
        "  print(\"Test failed!\\nExpected: {}\\nActual: {}\".format(expected, actual))"
      ],
      "metadata": {
        "colab": {
          "base_uri": "https://localhost:8080/"
        },
        "id": "CxfijlHGSW60",
        "outputId": "19aa5f33-9baa-4d29-ed0c-0cf4cffce253"
      },
      "execution_count": null,
      "outputs": [
        {
          "output_type": "stream",
          "name": "stdout",
          "text": [
            "Test passed!\n",
            "Expected: 3\n",
            "Actual: 3\n"
          ]
        }
      ]
    },
    {
      "cell_type": "markdown",
      "source": [
        "# Exercise 6\n",
        "\n",
        "---\n",
        "\\\n",
        "Write your code inside the function below to:\n",
        "- Find all migrations from `Low Income` countries in `base_country_wb_income` to `Upper Middle Income` countries in `target_country_wb_income`.\n",
        "- Find all rows which move to the same reigon via `base_country_wb_region` & `target_country_wb_region` then display the length of rows."
      ],
      "metadata": {
        "id": "OJuBYhzaS3r1"
      }
    },
    {
      "cell_type": "code",
      "source": [
        "import pandas as pd\n",
        "\n",
        "countryMigration = pd.read_excel('https://github.com/futureCodersSE/working-with-data/blob/main/Data%20sets/public_use-talent-migration.xlsx?raw=true', \"Country Migration\")\n",
        "\n",
        "def exc_6(df):\n",
        "  # add code below\n",
        "  new_df = df[(df[\"base_country_wb_income\"] == \"Low Income\") & (df[\"target_country_wb_income\"] == \"Upper Middle Income\")]\n",
        "  newer_df = new_df[new_df[\"base_country_wb_region\"] == new_df[\"target_country_wb_region\"]]\n",
        "  \n",
        "  return len(newer_df)\n",
        "\n",
        "actual = exc_6(countryMigration)\n",
        "expected = 15\n",
        "\n",
        "if actual == expected:\n",
        "  print(\"Test passed!\\nExpected: {}\\nActual: {}\".format(expected, actual))\n",
        "else:\n",
        "  print(\"Test failed!\\nExpected: {}\\nActual: {}\".format(expected, actual))"
      ],
      "metadata": {
        "colab": {
          "base_uri": "https://localhost:8080/"
        },
        "id": "Wq0i2dCYTPxE",
        "outputId": "021e8bcd-7a7d-4437-dc37-19247e695855"
      },
      "execution_count": null,
      "outputs": [
        {
          "output_type": "stream",
          "name": "stdout",
          "text": [
            "Test passed!\n",
            "Expected: 15\n",
            "Actual: 15\n"
          ]
        }
      ]
    },
    {
      "cell_type": "markdown",
      "source": [
        "# Exercise 7\n",
        "\n",
        "---\n",
        "\\\n",
        "Write your code inside the function below to:\n",
        "- Find all `isic_section_index` with `M` that are in `industry_name` of `Biotechnology`.\n",
        "- Return the length of rows."
      ],
      "metadata": {
        "id": "aDvp-O4LTXbp"
      }
    },
    {
      "cell_type": "code",
      "source": [
        "import pandas as pd\n",
        "\n",
        "industryMigration = pd.read_excel('https://github.com/futureCodersSE/working-with-data/blob/main/Data%20sets/public_use-talent-migration.xlsx?raw=true', \"Industry Migration\")\n",
        "\n",
        "def exc_7(df):\n",
        "  # add code below\n",
        "  new_df = df[(df[\"isic_section_index\"] == \"M\") & (df[\"industry_name\"] == \"Biotechnology\")]\n",
        "  \n",
        "  return len(new_df)\n",
        "\n",
        "actual = exc_7(industryMigration)\n",
        "expected = 32\n",
        "\n",
        "if actual == expected:\n",
        "  print(\"Test passed!\\nExpected: {}\\nActual: {}\".format(expected, actual))\n",
        "else:\n",
        "  print(\"Test failed!\\nExpected: {}\\nActual: {}\".format(expected, actual))"
      ],
      "metadata": {
        "colab": {
          "base_uri": "https://localhost:8080/"
        },
        "id": "n_V5moucTRnP",
        "outputId": "6ced528b-f4c2-4aba-b2fc-afac0db68916"
      },
      "execution_count": null,
      "outputs": [
        {
          "output_type": "stream",
          "name": "stdout",
          "text": [
            "Test passed!\n",
            "Expected: 32\n",
            "Actual: 32\n"
          ]
        }
      ]
    },
    {
      "cell_type": "markdown",
      "source": [
        "# Exercise 8\n",
        "\n",
        "---\n",
        "\\\n",
        "Write your code inside the function below to:\n",
        "- Find all `industry_name` with `Computer Software` that have a `wb_income` of `Low income`.\n",
        "- Sort the rows in descending order based on `net_per_10K_2015` and return the first 5 rows."
      ],
      "metadata": {
        "id": "Pu-V4x7oTXg3"
      }
    },
    {
      "cell_type": "code",
      "source": [
        "import pandas as pd\n",
        "\n",
        "industryMigration = pd.read_excel('https://github.com/futureCodersSE/working-with-data/blob/main/Data%20sets/public_use-talent-migration.xlsx?raw=true', \"Industry Migration\")\n",
        "\n",
        "def exc_8(df):\n",
        "  # add code below\n",
        "  new_df = df[(df[\"wb_income\"] == \"Low income\") & (df[\"industry_name\"] == \"Computer Software\")]\n",
        "  \n",
        "  return len(new_df)\n",
        "\n",
        "actual = exc_8(industryMigration)\n",
        "expected = 1\n",
        "\n",
        "if actual == expected:\n",
        "  print(\"Test passed!\\nExpected: {}\\nActual: {}\".format(expected, actual))\n",
        "else:\n",
        "  print(\"Test failed!\\nExpected: {}\\nActual: {}\".format(expected, actual))"
      ],
      "metadata": {
        "colab": {
          "base_uri": "https://localhost:8080/"
        },
        "id": "WqVliNlGTWXV",
        "outputId": "495687fa-1303-4a2b-9b22-b9e4717f074c"
      },
      "execution_count": null,
      "outputs": [
        {
          "output_type": "stream",
          "name": "stdout",
          "text": [
            "Test passed!\n",
            "Expected: 1\n",
            "Actual: 1\n"
          ]
        }
      ]
    },
    {
      "cell_type": "markdown",
      "source": [
        "# Exercise 9\n",
        "\n",
        "---\n",
        "\\\n",
        "Write your code inside the function below to:\n",
        "- Find all `country_name` that include `United States` or `United Kindom` aswell as having a `isic_section_index` with `M` included.\n",
        "- Return the average of `net_per_10K_2015`."
      ],
      "metadata": {
        "id": "O7o6mgU2TXl_"
      }
    },
    {
      "cell_type": "code",
      "source": [
        "import pandas as pd\n",
        "\n",
        "industryMigration = pd.read_excel('https://github.com/futureCodersSE/working-with-data/blob/main/Data%20sets/public_use-talent-migration.xlsx?raw=true', \"Industry Migration\")\n",
        "\n",
        "def exc_9(df):\n",
        "  # add code below\n",
        "  new_df = df[(df[\"country_name\"] == \"United States\") | (df[\"country_name\"] == \"United Kindom\") & (df[\"isic_section_index\"] == \"M\")]\n",
        "  \n",
        "  return new_df[\"net_per_10K_2015\"].mean()\n",
        "\n",
        "actual = exc_9(industryMigration)\n",
        "expected = 8.087482517482517\n",
        "\n",
        "if actual == expected:\n",
        "  print(\"Test passed!\\nExpected: {}\\nActual: {}\".format(expected, actual))\n",
        "else:\n",
        "  print(\"Test failed!\\nExpected: {}\\nActual: {}\".format(expected, actual))"
      ],
      "metadata": {
        "colab": {
          "base_uri": "https://localhost:8080/"
        },
        "id": "izOkixeATWd_",
        "outputId": "0a569c05-98e2-4f3d-8e6f-22a34797d64f"
      },
      "execution_count": null,
      "outputs": [
        {
          "output_type": "stream",
          "name": "stdout",
          "text": [
            "Test failed!\n",
            "Expected: 1\n",
            "Actual: 8.087482517482517\n"
          ]
        }
      ]
    }
  ]
}